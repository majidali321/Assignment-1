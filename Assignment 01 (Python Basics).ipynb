{
 "cells": [
  {
   "cell_type": "markdown",
   "metadata": {},
   "source": [
    "# Part -1 Python Basics (Variables)"
   ]
  },
  {
   "cell_type": "markdown",
   "metadata": {},
   "source": [
    "1. Print Your Name with your Father name and Date of birth using suitable escape sequence charactor"
   ]
  },
  {
   "cell_type": "code",
   "execution_count": 3,
   "metadata": {},
   "outputs": [
    {
     "name": "stdout",
     "output_type": "stream",
     "text": [
      "\n",
      "Name:Majid Ali\n",
      "s/o Muhammad sadiq\n",
      "DoB 10-Apr-1995\n"
     ]
    }
   ],
   "source": [
    "print ( \"\\nName:Majid Ali\\ns/o Muhammad sadiq\\nDoB 10-Apr-1995\")"
   ]
  },
  {
   "cell_type": "markdown",
   "metadata": {},
   "source": [
    "2. Write your small bio using variables and print it using print function"
   ]
  },
  {
   "cell_type": "code",
   "execution_count": 17,
   "metadata": {},
   "outputs": [
    {
     "name": "stdout",
     "output_type": "stream",
     "text": [
      "Majid ali\n",
      "29\n",
      "10-Apr-1995\n",
      "Python\n",
      "SMIT\n"
     ]
    }
   ],
   "source": [
    "Name= \"Majid ali\"\n",
    "Age = 29\n",
    "DOB = \"10-Apr-1995\"\n",
    "Course = \"Python\"\n",
    "Organization = \"SMIT\"\n",
    "print(Name)\n",
    "print(Age)\n",
    "print(DOB)\n",
    "print(Course)\n",
    "print(Organization)"
   ]
  },
  {
   "cell_type": "markdown",
   "metadata": {},
   "source": [
    "3. Write a program in which use all the operators we can use in Python"
   ]
  },
  {
   "cell_type": "code",
   "execution_count": 18,
   "metadata": {},
   "outputs": [
    {
     "name": "stdout",
     "output_type": "stream",
     "text": [
      "14\n",
      "14\n",
      "14\n",
      "14.0\n",
      "1\n"
     ]
    }
   ],
   "source": [
    "print(10+4)\n",
    "print(18-4)\n",
    "print(7*2)\n",
    "print(28/2)\n",
    "print(9%2)\n"
   ]
  },
  {
   "cell_type": "markdown",
   "metadata": {},
   "source": [
    "4. Completes the following steps of small task:\n",
    "    - Mention Marks of English , Islamiat and Maths out of 100 in 3 different variables\n",
    "    - Mention Variable of Total Marks and assign 300 to it\n",
    "    - Calculate Percentage"
   ]
  },
  {
   "cell_type": "code",
   "execution_count": 22,
   "metadata": {},
   "outputs": [
    {
     "name": "stdout",
     "output_type": "stream",
     "text": [
      "94.33333333333334\n"
     ]
    }
   ],
   "source": [
    "Islamiat = 94\n",
    "English = 99\n",
    "Maths = 90\n",
    "total_Marks = 300\n",
    "obtain_marks = (Islamiat+English+Maths)\n",
    "percentage  = ((obtain_marks/total_Marks)*100)\n",
    "print(percentage)"
   ]
  },
  {
   "cell_type": "markdown",
   "metadata": {},
   "source": [
    "# Part -2 Python Basics (Conditional Statements)"
   ]
  },
  {
   "cell_type": "markdown",
   "metadata": {},
   "source": [
    "1) A company decided to give bonus of 5% to employee if his/her year of service is more than 5 years.\n",
    "Ask user for their salary and year of service and print the net bonus amount."
   ]
  },
  {
   "cell_type": "code",
   "execution_count": 30,
   "metadata": {},
   "outputs": [
    {
     "name": "stdin",
     "output_type": "stream",
     "text": [
      "enter your salary 200000\n",
      "enter your service of years 6\n"
     ]
    },
    {
     "name": "stdout",
     "output_type": "stream",
     "text": [
      "10000.0\n"
     ]
    }
   ],
   "source": [
    "salary = int(input(\"enter your salary\"))\n",
    "years_of_services = int(input(\"enter your service of years\"))\n",
    "if (years_of_services > 5):\n",
    "    print(salary *.05)\n",
    "else:\n",
    "    print(\"Sorry ! your bonus is zero for this year\")"
   ]
  },
  {
   "cell_type": "markdown",
   "metadata": {},
   "source": [
    "\n",
    "2) Write a program to check whether a person is eligible for voting or not. (accept age from user) if age is greater than 17 eligible otherwise not eligible"
   ]
  },
  {
   "cell_type": "code",
   "execution_count": 33,
   "metadata": {},
   "outputs": [
    {
     "name": "stdin",
     "output_type": "stream",
     "text": [
      "ENter your age 11\n"
     ]
    }
   ],
   "source": [
    "age = int(input(\"ENter your age\"))\n",
    "if (age >17):\n",
    "    print(\"you are eligible for vote\")\n",
    "else:\n",
    "    print(\"Sorry! you are not eligible for vote\")"
   ]
  },
  {
   "cell_type": "markdown",
   "metadata": {},
   "source": [
    "\n",
    "3) Write a program to check whether a number entered by user is even or odd."
   ]
  },
  {
   "cell_type": "code",
   "execution_count": 46,
   "metadata": {},
   "outputs": [
    {
     "name": "stdin",
     "output_type": "stream",
     "text": [
      "enter your num 88888233223332326\n"
     ]
    },
    {
     "name": "stdout",
     "output_type": "stream",
     "text": [
      "even number\n"
     ]
    }
   ],
   "source": [
    "num = int(input(\"enter your num\"))\n",
    "if (num % 2 == 0):\n",
    "    print(\"even number\")\n",
    "else:\n",
    "    print(\"Odd Num\")"
   ]
  },
  {
   "cell_type": "markdown",
   "metadata": {},
   "source": [
    "4) Write a program to check whether a number is divisible by 7 or not.\n",
    "Show Answer"
   ]
  },
  {
   "cell_type": "code",
   "execution_count": 52,
   "metadata": {},
   "outputs": [
    {
     "name": "stdin",
     "output_type": "stream",
     "text": [
      "enter your num 777\n"
     ]
    },
    {
     "name": "stdout",
     "output_type": "stream",
     "text": [
      "you num is divisible by 7\n"
     ]
    }
   ],
   "source": [
    "num = int(input(\"enter your num\"))\n",
    "if (num % 7 == 0):\n",
    "    print(\"you num is divisible by 7\")\n",
    "else:\n",
    "    print(\"Invalid num\")"
   ]
  },
  {
   "cell_type": "markdown",
   "metadata": {},
   "source": [
    "5) Write a program to display \n",
    "\"Hello\" if a number entered by user is a multiple of five , otherwise print \"Bye\"."
   ]
  },
  {
   "cell_type": "code",
   "execution_count": 56,
   "metadata": {},
   "outputs": [
    {
     "name": "stdin",
     "output_type": "stream",
     "text": [
      "enter your num 56\n"
     ]
    },
    {
     "name": "stdout",
     "output_type": "stream",
     "text": [
      "BYE\n"
     ]
    }
   ],
   "source": [
    "num = int(input(\"enter your num\"))\n",
    "if (num%5 == 0):\n",
    "    print (\"Hello\")\n",
    "else:\n",
    "    print(\"BYE\")"
   ]
  },
  {
   "cell_type": "markdown",
   "metadata": {},
   "source": [
    "7) Write a program to display the last digit of a number.\n"
   ]
  },
  {
   "cell_type": "code",
   "execution_count": 59,
   "metadata": {},
   "outputs": [
    {
     "name": "stdin",
     "output_type": "stream",
     "text": [
      "enter your num 2344420987\n"
     ]
    },
    {
     "name": "stdout",
     "output_type": "stream",
     "text": [
      "your last digit is:7\n"
     ]
    }
   ],
   "source": [
    "def get_digit(num):\n",
    "    return num % 10\n",
    "num = int(input(\"enter your num\"))\n",
    "last_digit = get_digit(num)\n",
    "print(f\"your last digit is:{last_digit}\")\n"
   ]
  },
  {
   "cell_type": "markdown",
   "metadata": {},
   "source": [
    "9) Take values of length and breadth of a rectangle from user and print if it is square or rectangle."
   ]
  },
  {
   "cell_type": "code",
   "execution_count": 61,
   "metadata": {},
   "outputs": [
    {
     "name": "stdin",
     "output_type": "stream",
     "text": [
      "enter length of shape 43\n",
      "enter your width 34\n"
     ]
    },
    {
     "name": "stdout",
     "output_type": "stream",
     "text": [
      "rectangle\n"
     ]
    }
   ],
   "source": [
    "length = int(input(\"enter length of shape\"))\n",
    "width = int(input(\"enter your width\"))\n",
    "if (length == width):\n",
    "    print(\"its square\")\n",
    "else:\n",
    "    print(\"its rectangle\")"
   ]
  },
  {
   "cell_type": "markdown",
   "metadata": {},
   "source": [
    "10) Take two int values from user and print greatest among them."
   ]
  },
  {
   "cell_type": "code",
   "execution_count": 62,
   "metadata": {},
   "outputs": [
    {
     "name": "stdin",
     "output_type": "stream",
     "text": [
      "enter your num1 12\n",
      "enter you num2 23\n"
     ]
    },
    {
     "name": "stdout",
     "output_type": "stream",
     "text": [
      "value 2 is greater\n"
     ]
    }
   ],
   "source": [
    "value1 = int(input(\"enter your num1\"))\n",
    "value2 = int(input(\"enter you num2\"))\n",
    "if (value1 > value2):\n",
    "    print(\"value 1 is greater\")\n",
    "else:\n",
    "    print(\"value 2 is greater\")"
   ]
  },
  {
   "cell_type": "markdown",
   "metadata": {},
   "source": [
    "11) A shop will give discount of 10% if the cost of purchased quantity is more than 1000.\n",
    "Ask user for quantity\n",
    "Suppose, one unit will cost 100.\n",
    "Judge and print total cost for user."
   ]
  },
  {
   "cell_type": "code",
   "execution_count": 7,
   "metadata": {},
   "outputs": [
    {
     "name": "stdin",
     "output_type": "stream",
     "text": [
      "enter your quantity of shopping 56\n"
     ]
    },
    {
     "name": "stdout",
     "output_type": "stream",
     "text": [
      "you got 560.0\n"
     ]
    }
   ],
   "source": [
    "quantity = int(input(\"enter your quantity of shopping\"))\n",
    "total_price = quantity * 100\n",
    "discount = (total_price * .1)\n",
    "if total_price>1000:\n",
    "    print(f\"you got {discount}\")\n",
    "else:\n",
    "    print(\"no discount\")"
   ]
  },
  {
   "cell_type": "markdown",
   "metadata": {},
   "source": [
    "12) A school has following rules for grading system:\n",
    "\n",
    "a. Below 25 - F\n",
    "\n",
    "b. 25 to 45 - E\n",
    "\n",
    "c. 45 to 50 - D\n",
    "\n",
    "d. 50 to 60 - C\n",
    "\n",
    "e. 60 to 80 - B\n",
    "\n",
    "f. Above 80 - A\n",
    "\n",
    "Ask user to enter marks and print the corresponding grade."
   ]
  },
  {
   "cell_type": "code",
   "execution_count": 13,
   "metadata": {},
   "outputs": [
    {
     "name": "stdin",
     "output_type": "stream",
     "text": [
      "Enter your Marks 56\n"
     ]
    },
    {
     "name": "stdout",
     "output_type": "stream",
     "text": [
      "your grade is :C\n"
     ]
    }
   ],
   "source": [
    "marks= int(input(\"Enter your Marks\"))\n",
    "if marks<25:\n",
    "    grade = \"F\"\n",
    "elif marks<45:\n",
    "    grade = \"E\"\n",
    "elif marks <50:\n",
    "    grade = \"D\"\n",
    "elif marks<60:\n",
    "    grade = \"C\"\n",
    "elif marks<80:\n",
    "    grade = \"B\"\n",
    "else:\n",
    "    grade = \"A\"\n",
    "print(f\"your grade is :{grade}\")"
   ]
  },
  {
   "cell_type": "markdown",
   "metadata": {},
   "source": [
    "14)A student will not be allowed to sit in exam if his/her attendence is less than 75%.\n",
    "\n",
    "Take following input from user\n",
    "\n",
    "- Number of classes held\n",
    "\n",
    "- Number of classes attended.\n",
    "\n",
    "And print\n",
    "\n",
    "- percentage of class attended\n",
    "\n",
    "- Is student is allowed to sit in exam or not.\n"
   ]
  },
  {
   "cell_type": "code",
   "execution_count": 19,
   "metadata": {},
   "outputs": [
    {
     "name": "stdin",
     "output_type": "stream",
     "text": [
      "Enter the total num of classes 100\n",
      "Enter you attended classes 22\n"
     ]
    },
    {
     "name": "stdout",
     "output_type": "stream",
     "text": [
      "your attendance percentage is 22.0%\n",
      "You are not allowed to sit in exams\n"
     ]
    }
   ],
   "source": [
    "total_classes = int(input(\"Enter the total num of classes\"))\n",
    "attended_classes = int(input(\"Enter you attended classes\"))\n",
    "percentage_of_attendance = ((attended_classes/total_classes)*100)\n",
    "print(f\"your attendance percentage is {percentage_of_attendance}%\")\n",
    "if percentage_of_attendance<75:\n",
    "    print(\"You are not allowed to sit in exams\")\n",
    "else:\n",
    "    print(\"you can sit in you exams\")"
   ]
  },
  {
   "cell_type": "markdown",
   "metadata": {},
   "source": [
    "15) Modify the above question to allow student to sit if he/she has medical cause. Ask user if he/she has medical cause or not ( 'Y' or 'N' ) and print accordingly."
   ]
  },
  {
   "cell_type": "code",
   "execution_count": 27,
   "metadata": {},
   "outputs": [
    {
     "name": "stdin",
     "output_type": "stream",
     "text": [
      "Enter the total num of classes 100\n",
      "Enter you attended classes 22\n"
     ]
    },
    {
     "name": "stdout",
     "output_type": "stream",
     "text": [
      "your attendance percentage is 22.0%\n"
     ]
    },
    {
     "name": "stdin",
     "output_type": "stream",
     "text": [
      "if You have any medical cause then press Y y\n"
     ]
    },
    {
     "name": "stdout",
     "output_type": "stream",
     "text": [
      "You are allowed to sit in exams\n"
     ]
    }
   ],
   "source": [
    "total_classes = int(input(\"Enter the total num of classes\"))\n",
    "attended_classes = int(input(\"Enter you attended classes\"))\n",
    "percentage_of_attendance = ((attended_classes/total_classes)*100)\n",
    "print(f\"your attendance percentage is {percentage_of_attendance}%\")\n",
    "medical_cause = str(input(\"if You have any medical cause then press Y\").upper())\n",
    "\n",
    "if (percentage_of_attendance<75) and (medical_cause == \"Y\"):\n",
    "    print(\"You are allowed to sit in exams\")\n",
    "elif percentage_of_attendance<75: \n",
    "    print(\"You are allowed to sit in exams\")\n",
    "else:\n",
    "    print(\"you can sit in you exams\")"
   ]
  },
  {
   "cell_type": "markdown",
   "metadata": {},
   "source": [
    "16) Write a program to check if a year is leap year or not.\n",
    "\n",
    "If a year is divisible by 4 then it is leap year but if the year is century year like 2000, 1900, 2100 then it must be divisible by 400."
   ]
  },
  {
   "cell_type": "code",
   "execution_count": 26,
   "metadata": {},
   "outputs": [
    {
     "name": "stdin",
     "output_type": "stream",
     "text": [
      "ENter your year 2023\n"
     ]
    },
    {
     "name": "stdout",
     "output_type": "stream",
     "text": [
      "its not a leap year\n"
     ]
    }
   ],
   "source": [
    "year = int(input(\"ENter your year\"))\n",
    "if year %4 ==0:\n",
    "    print(\"its a leap year\")\n",
    "elif year %400 == 0:\n",
    "    print(\"its a leap year\")\n",
    "else:\n",
    "    print(\"its not a leap year\")"
   ]
  },
  {
   "cell_type": "markdown",
   "metadata": {},
   "source": [
    "17) Ask user to enter age, gender ( M or F ), marital status ( Y or N ) and then using following rules print their place of service.\n",
    "\n",
    "if employee is female, then she will work only in urban areas.\n",
    "\n",
    "if employee is a male and age is in between 20 to 40 then he may work in anywhere\n",
    "\n",
    "if employee is male and age is in between 40 t0 60 then he will work in urban areas only.\n",
    "\n",
    "And any other input of age should print \"ERROR\""
   ]
  },
  {
   "cell_type": "code",
   "execution_count": 18,
   "metadata": {},
   "outputs": [
    {
     "name": "stdin",
     "output_type": "stream",
     "text": [
      "Enter your gender (M/F) m\n",
      "Enter your Age 60\n"
     ]
    },
    {
     "name": "stdout",
     "output_type": "stream",
     "text": [
      "place of service is :urban areas only\n"
     ]
    }
   ],
   "source": [
    "gender = str(input(\"Enter your gender (M/F)\")).upper()\n",
    "# Status = str(input(\"Enter your Marital status(Married/Unmarried)\"))\n",
    "Age = int(input(\"Enter your Age\"))\n",
    "\n",
    "if gender == \"F\":\n",
    "    place_of_service = \"only urban areas\"\n",
    "elif gender ==\"M\":\n",
    "    if 20<= Age <=40:\n",
    "        place_of_service = \"anywhere\"\n",
    "    elif 40< Age <= 60:\n",
    "        place_of_service = \"Urban areas only\"\n",
    "    else:\n",
    "        place_of_service= \"ERROR\"\n",
    "else:\n",
    "    place_of_service = \"ERROR\"\n",
    "print(f\"place of service is :{place_of_service}\")"
   ]
  },
  {
   "cell_type": "markdown",
   "metadata": {},
   "source": [
    "6) Write a program to calculate the electricity bill (accept number of unit from user) according to the following criteria :\n",
    "     Unit                                                     Price  \n",
    "uptp 100 units                                             no charge\n",
    "Next 200 units                                              Rs 5 per unit\n",
    "After 200 units                                             Rs 10 per unit\n",
    "(For example if input unit is 350 than total bill amount is Rs.3500\n",
    "(For example if input unit is 97 than total bill amount is Rs.0\n",
    "(For example if input unit is 150 than total bill amount is Rs.750"
   ]
  },
  {
   "cell_type": "markdown",
   "metadata": {},
   "source": [
    "13) Take input of age of 3 people by user and determine oldest and youngest among them."
   ]
  },
  {
   "cell_type": "code",
   "execution_count": 29,
   "metadata": {},
   "outputs": [
    {
     "name": "stdin",
     "output_type": "stream",
     "text": [
      "Enter the units of electricity 97\n"
     ]
    },
    {
     "name": "stdout",
     "output_type": "stream",
     "text": [
      "your electricity bill is :0\n"
     ]
    }
   ],
   "source": [
    "units_of_electricity = int(input(\"Enter the units of electricity\"))\n",
    "if units_of_electricity <= 100:\n",
    "    bill =  0\n",
    "elif units_of_electricity <= 200:\n",
    "    bill = (units_of_electricity*5)\n",
    "else:\n",
    "    bill  =units_of_electricity *10\n",
    "\n",
    "print(f\"your electricity bill is :{bill}\")"
   ]
  },
  {
   "cell_type": "code",
   "execution_count": 30,
   "metadata": {},
   "outputs": [
    {
     "name": "stdin",
     "output_type": "stream",
     "text": [
      "ENter your age 32\n",
      "ENter your age 43\n",
      "ENter your age 45\n"
     ]
    },
    {
     "name": "stdout",
     "output_type": "stream",
     "text": [
      "the oldest person is :45\n",
      "the yougest person is :32\n"
     ]
    }
   ],
   "source": [
    "person1 = int(input(\"ENter your age\"))\n",
    "person2 = int(input(\"ENter your age\"))\n",
    "person3 = int(input(\"ENter your age\"))\n",
    "\n",
    "oldest = max(person1,person2,person3)\n",
    "youngest = min(person1,person2,person3)\n",
    "\n",
    "print(f\"the oldest person is :{oldest}\")\n",
    "print(f\"the yougest person is :{youngest}\")\n"
   ]
  },
  {
   "cell_type": "code",
   "execution_count": null,
   "metadata": {},
   "outputs": [],
   "source": []
  }
 ],
 "metadata": {
  "kernelspec": {
   "display_name": "Python 3 (ipykernel)",
   "language": "python",
   "name": "python3"
  },
  "language_info": {
   "codemirror_mode": {
    "name": "ipython",
    "version": 3
   },
   "file_extension": ".py",
   "mimetype": "text/x-python",
   "name": "python",
   "nbconvert_exporter": "python",
   "pygments_lexer": "ipython3",
   "version": "3.11.7"
  }
 },
 "nbformat": 4,
 "nbformat_minor": 4
}
